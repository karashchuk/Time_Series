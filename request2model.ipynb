{
 "cells": [
  {
   "cell_type": "code",
   "execution_count": 1,
   "metadata": {
    "id": "Cxm28pii80xp"
   },
   "outputs": [],
   "source": [
    "import requests"
   ]
  },
  {
   "cell_type": "code",
   "execution_count": 2,
   "metadata": {},
   "outputs": [],
   "source": [
    "# формируем запрос\n",
    "def send_json(data):\n",
    "    url = 'http://4479cb7e4f72.ngrok.io/predict'\n",
    "    headers = {'content-type': 'application/json'}\n",
    "    response = requests.post(url, json=data, headers=headers)\n",
    "    return response"
   ]
  },
  {
   "cell_type": "code",
   "execution_count": 3,
   "metadata": {
    "colab": {
     "base_uri": "https://localhost:8080/"
    },
    "id": "J_xtPIQt8toy",
    "outputId": "c61b68f6-110b-41aa-d1d5-3910cc641d4f"
   },
   "outputs": [
    {
     "name": "stdout",
     "output_type": "stream",
     "text": [
      "{'Credit Default': 1, 'Credit Default_probability_1': 0.6811706334102141, 'ID': 23}\n"
     ]
    }
   ],
   "source": [
    "# Пример данных\n",
    "data = {\n",
    "    'ID':23,\"Home Ownership\":\"Rent\",\"Annual Income\":0.0,\"Years in current job\":\"2 years\",\"Tax Liens\":0.0,\"Number of Open Accounts\":9.0,\"Years of Credit History\":12.5,\n",
    "    \"Maximum Open Credit\":220968.0,\"Number of Credit Problems\":0.0,\"Months since last delinquent\":70.0,\n",
    "    \"Bankruptcies\":0.0,\"Purpose\":\"debt consolidation\",\"Term\":\"Short Term\",\"Current Loan Amount\":162470.0,\"Current Credit Balance\":105906.0,\"Monthly Debt\":6813.0,\"Credit Score\":585.0\n",
    "}\n",
    "\n",
    "# обращение к серверу\n",
    "if __name__ == '__main__':\n",
    "    response = send_json(data)\n",
    "    print(response.json())"
   ]
  },
  {
   "cell_type": "code",
   "execution_count": 4,
   "metadata": {
    "colab": {
     "base_uri": "https://localhost:8080/"
    },
    "id": "Q5fJt4b0MyuF",
    "outputId": "47039597-6203-4c1d-ceb1-1b288b4b670b"
   },
   "outputs": [
    {
     "name": "stdout",
     "output_type": "stream",
     "text": [
      "{'Credit Default': 1, 'Credit Default_probability_1': 0.551833407209088, 'ID': 2}\n"
     ]
    }
   ],
   "source": [
    "# Пример данных\n",
    "data2 = {'ID':2,\"Home Ownership\":\"Home Mortgage\",\"Years in current job\":\"10+ years\",\"Tax Liens\":0.0,\n",
    "       \"Number of Open Accounts\":16.0,\"Years of Credit History\":17.0,\"Maximum Open Credit\":456302.0,\n",
    "       \"Number of Credit Problems\":0.0,\"Months since last delinquent\":70.0,\"Purpose\":\"debt consolidation\",\n",
    "       \"Term\":\"Short Term\",\"Current Loan Amount\":217382.0,\"Current Credit Balance\":213199.0,\"Monthly Debt\":27559.0}\n",
    "\n",
    "# обращение к серверу\n",
    "if __name__ == '__main__':\n",
    "    response = send_json(data2)\n",
    "    print(response.json())"
   ]
  },
  {
   "cell_type": "code",
   "execution_count": 5,
   "metadata": {
    "colab": {
     "base_uri": "https://localhost:8080/"
    },
    "id": "PWniAEXXNDgs",
    "outputId": "9ee2a530-a948-4dc5-b7af-ce39324321c0"
   },
   "outputs": [
    {
     "name": "stdout",
     "output_type": "stream",
     "text": [
      "{'Credit Default': 0, 'Credit Default_probability_1': 0.49737554033553916, 'ID': 3}\n"
     ]
    }
   ],
   "source": [
    "data3 = {'ID':3,\"Home Ownership\":\"Home Mortgage\",\"Annual Income\":1152540.0,\"Years in current job\":\"2 years\",\"Tax Liens\":0.0,\n",
    " \"Number of Open Accounts\":10.0,\"Years of Credit History\":13.7,\"Maximum Open Credit\":204600.0,\"Number of Credit Problems\":0.0,\n",
    " \"Months since last delinquent\":0.0,\"Bankruptcies\":0.0,\"Purpose\":\"debt consolidation\",\"Term\":\"Short Term\",\n",
    " \"Current Loan Amount\":200178.0,\"Current Credit Balance\":146490.0,\"Monthly Debt\":18729.0,\"Credit Score\":7260.0}\n",
    "\n",
    "# обращение к серверу\n",
    "if __name__ == '__main__':\n",
    "    response = send_json(data3)\n",
    "    print(response.json())"
   ]
  },
  {
   "cell_type": "code",
   "execution_count": null,
   "metadata": {},
   "outputs": [],
   "source": []
  }
 ],
 "metadata": {
  "colab": {
   "name": "запрос_к_модели.ipynb",
   "provenance": []
  },
  "kernelspec": {
   "display_name": "Python 3",
   "language": "python",
   "name": "python3"
  },
  "language_info": {
   "codemirror_mode": {
    "name": "ipython",
    "version": 3
   },
   "file_extension": ".py",
   "mimetype": "text/x-python",
   "name": "python",
   "nbconvert_exporter": "python",
   "pygments_lexer": "ipython3",
   "version": "3.7.3"
  }
 },
 "nbformat": 4,
 "nbformat_minor": 1
}
