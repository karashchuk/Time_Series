{
 "cells": [
  {
   "cell_type": "markdown",
   "metadata": {},
   "source": [
    "# Задание к уроку 9"
   ]
  },
  {
   "cell_type": "code",
   "execution_count": 1,
   "metadata": {},
   "outputs": [],
   "source": [
    "import gc # сборщик мусора\n",
    "\n",
    "import numpy as np # linear algebra\n",
    "import pandas as pd # data processing, CSV file I/O (e.g. pd.read_csv)\n",
    "import warnings\n",
    "warnings.filterwarnings('ignore')\n",
    "\n",
    "from sklearn.metrics import classification_report, f1_score, precision_score, recall_score\n",
    "\n",
    "\n",
    "import xgboost as xgb, lightgbm as lgbm, catboost as catb\n",
    "from sklearn.model_selection import train_test_split, KFold, GridSearchCV, cross_val_score, ShuffleSplit, learning_curve\n",
    "from sklearn import svm\n",
    "\n",
    "import pickle\n",
    "import random\n",
    "import json\n"
   ]
  },
  {
   "cell_type": "code",
   "execution_count": 2,
   "metadata": {},
   "outputs": [],
   "source": [
    "# !pip install flask_ngrok"
   ]
  },
  {
   "cell_type": "code",
   "execution_count": 3,
   "metadata": {},
   "outputs": [],
   "source": [
    "from flask_ngrok import run_with_ngrok\n",
    "from flask import Flask, request, jsonify\n",
    "import pandas as pd"
   ]
  },
  {
   "cell_type": "code",
   "execution_count": 4,
   "metadata": {},
   "outputs": [],
   "source": [
    "def get_classification_report(y_train_true, y_train_pred, y_test_true, y_test_pred):\n",
    "    print('TRAIN\\n\\n' + classification_report(y_train_true, y_train_pred))\n",
    "    print('TEST\\n\\n' + classification_report(y_test_true, y_test_pred))\n",
    "    print(f'F1-score = {f1_score(y_test_true, y_test_pred)}\\n')\n",
    "    print('CONFUSION MATRIX\\n')\n",
    "    print(pd.crosstab(y_test_true, y_test_pred))"
   ]
  },
  {
   "cell_type": "code",
   "execution_count": 5,
   "metadata": {},
   "outputs": [
    {
     "data": {
      "text/html": [
       "<div>\n",
       "<style scoped>\n",
       "    .dataframe tbody tr th:only-of-type {\n",
       "        vertical-align: middle;\n",
       "    }\n",
       "\n",
       "    .dataframe tbody tr th {\n",
       "        vertical-align: top;\n",
       "    }\n",
       "\n",
       "    .dataframe thead th {\n",
       "        text-align: right;\n",
       "    }\n",
       "</style>\n",
       "<table border=\"1\" class=\"dataframe\">\n",
       "  <thead>\n",
       "    <tr style=\"text-align: right;\">\n",
       "      <th></th>\n",
       "      <th>Home Ownership</th>\n",
       "      <th>Annual Income</th>\n",
       "      <th>Years in current job</th>\n",
       "      <th>Tax Liens</th>\n",
       "      <th>Number of Open Accounts</th>\n",
       "      <th>Years of Credit History</th>\n",
       "      <th>Maximum Open Credit</th>\n",
       "      <th>Number of Credit Problems</th>\n",
       "      <th>Months since last delinquent</th>\n",
       "      <th>Bankruptcies</th>\n",
       "      <th>Purpose</th>\n",
       "      <th>Term</th>\n",
       "      <th>Current Loan Amount</th>\n",
       "      <th>Current Credit Balance</th>\n",
       "      <th>Monthly Debt</th>\n",
       "      <th>Credit Score</th>\n",
       "      <th>Credit Default</th>\n",
       "    </tr>\n",
       "  </thead>\n",
       "  <tbody>\n",
       "    <tr>\n",
       "      <th>0</th>\n",
       "      <td>Own Home</td>\n",
       "      <td>482087.0</td>\n",
       "      <td>NaN</td>\n",
       "      <td>0.0</td>\n",
       "      <td>11.0</td>\n",
       "      <td>26.3</td>\n",
       "      <td>685960.0</td>\n",
       "      <td>1.0</td>\n",
       "      <td>NaN</td>\n",
       "      <td>1.0</td>\n",
       "      <td>debt consolidation</td>\n",
       "      <td>Short Term</td>\n",
       "      <td>99999999.0</td>\n",
       "      <td>47386.0</td>\n",
       "      <td>7914.0</td>\n",
       "      <td>749.0</td>\n",
       "      <td>0</td>\n",
       "    </tr>\n",
       "    <tr>\n",
       "      <th>1</th>\n",
       "      <td>Own Home</td>\n",
       "      <td>1025487.0</td>\n",
       "      <td>10+ years</td>\n",
       "      <td>0.0</td>\n",
       "      <td>15.0</td>\n",
       "      <td>15.3</td>\n",
       "      <td>1181730.0</td>\n",
       "      <td>0.0</td>\n",
       "      <td>NaN</td>\n",
       "      <td>0.0</td>\n",
       "      <td>debt consolidation</td>\n",
       "      <td>Long Term</td>\n",
       "      <td>264968.0</td>\n",
       "      <td>394972.0</td>\n",
       "      <td>18373.0</td>\n",
       "      <td>737.0</td>\n",
       "      <td>1</td>\n",
       "    </tr>\n",
       "    <tr>\n",
       "      <th>2</th>\n",
       "      <td>Home Mortgage</td>\n",
       "      <td>751412.0</td>\n",
       "      <td>8 years</td>\n",
       "      <td>0.0</td>\n",
       "      <td>11.0</td>\n",
       "      <td>35.0</td>\n",
       "      <td>1182434.0</td>\n",
       "      <td>0.0</td>\n",
       "      <td>NaN</td>\n",
       "      <td>0.0</td>\n",
       "      <td>debt consolidation</td>\n",
       "      <td>Short Term</td>\n",
       "      <td>99999999.0</td>\n",
       "      <td>308389.0</td>\n",
       "      <td>13651.0</td>\n",
       "      <td>742.0</td>\n",
       "      <td>0</td>\n",
       "    </tr>\n",
       "    <tr>\n",
       "      <th>3</th>\n",
       "      <td>Own Home</td>\n",
       "      <td>805068.0</td>\n",
       "      <td>6 years</td>\n",
       "      <td>0.0</td>\n",
       "      <td>8.0</td>\n",
       "      <td>22.5</td>\n",
       "      <td>147400.0</td>\n",
       "      <td>1.0</td>\n",
       "      <td>NaN</td>\n",
       "      <td>1.0</td>\n",
       "      <td>debt consolidation</td>\n",
       "      <td>Short Term</td>\n",
       "      <td>121396.0</td>\n",
       "      <td>95855.0</td>\n",
       "      <td>11338.0</td>\n",
       "      <td>694.0</td>\n",
       "      <td>0</td>\n",
       "    </tr>\n",
       "    <tr>\n",
       "      <th>4</th>\n",
       "      <td>Rent</td>\n",
       "      <td>776264.0</td>\n",
       "      <td>8 years</td>\n",
       "      <td>0.0</td>\n",
       "      <td>13.0</td>\n",
       "      <td>13.6</td>\n",
       "      <td>385836.0</td>\n",
       "      <td>1.0</td>\n",
       "      <td>NaN</td>\n",
       "      <td>0.0</td>\n",
       "      <td>debt consolidation</td>\n",
       "      <td>Short Term</td>\n",
       "      <td>125840.0</td>\n",
       "      <td>93309.0</td>\n",
       "      <td>7180.0</td>\n",
       "      <td>719.0</td>\n",
       "      <td>0</td>\n",
       "    </tr>\n",
       "  </tbody>\n",
       "</table>\n",
       "</div>"
      ],
      "text/plain": [
       "  Home Ownership  Annual Income Years in current job  Tax Liens  \\\n",
       "0       Own Home       482087.0                  NaN        0.0   \n",
       "1       Own Home      1025487.0            10+ years        0.0   \n",
       "2  Home Mortgage       751412.0              8 years        0.0   \n",
       "3       Own Home       805068.0              6 years        0.0   \n",
       "4           Rent       776264.0              8 years        0.0   \n",
       "\n",
       "   Number of Open Accounts  Years of Credit History  Maximum Open Credit  \\\n",
       "0                     11.0                     26.3             685960.0   \n",
       "1                     15.0                     15.3            1181730.0   \n",
       "2                     11.0                     35.0            1182434.0   \n",
       "3                      8.0                     22.5             147400.0   \n",
       "4                     13.0                     13.6             385836.0   \n",
       "\n",
       "   Number of Credit Problems  Months since last delinquent  Bankruptcies  \\\n",
       "0                        1.0                           NaN           1.0   \n",
       "1                        0.0                           NaN           0.0   \n",
       "2                        0.0                           NaN           0.0   \n",
       "3                        1.0                           NaN           1.0   \n",
       "4                        1.0                           NaN           0.0   \n",
       "\n",
       "              Purpose        Term  Current Loan Amount  \\\n",
       "0  debt consolidation  Short Term           99999999.0   \n",
       "1  debt consolidation   Long Term             264968.0   \n",
       "2  debt consolidation  Short Term           99999999.0   \n",
       "3  debt consolidation  Short Term             121396.0   \n",
       "4  debt consolidation  Short Term             125840.0   \n",
       "\n",
       "   Current Credit Balance  Monthly Debt  Credit Score  Credit Default  \n",
       "0                 47386.0        7914.0         749.0               0  \n",
       "1                394972.0       18373.0         737.0               1  \n",
       "2                308389.0       13651.0         742.0               0  \n",
       "3                 95855.0       11338.0         694.0               0  \n",
       "4                 93309.0        7180.0         719.0               0  "
      ]
     },
     "execution_count": 5,
     "metadata": {},
     "output_type": "execute_result"
    }
   ],
   "source": [
    "DATASET_PATH = 'course_project_train.csv'\n",
    "df = pd.read_csv(DATASET_PATH)\n",
    "df.head()"
   ]
  },
  {
   "cell_type": "markdown",
   "metadata": {},
   "source": [
    "**Описание датасета**\n",
    "\n",
    "* **Home Ownership** - домовладение\n",
    "* **Annual Income** - годовой доход\n",
    "* **Years in current job** - количество лет на текущем месте работы\n",
    "* **Tax Liens** - налоговые обременения\n",
    "* **Number of Open Accounts** - количество открытых счетов\n",
    "* **Years of Credit History** - количество лет кредитной истории\n",
    "* **Maximum Open Credit** - наибольший открытый кредит\n",
    "* **Number of Credit Problems** - количество проблем с кредитом\n",
    "* **Months since last delinquent** - количество месяцев с последней просрочки платежа\n",
    "* **Bankruptcies** - банкротства\n",
    "* **Purpose** - цель кредита\n",
    "* **Term** - срок кредита\n",
    "* **Current Loan Amount** - текущая сумма кредита\n",
    "* **Current Credit Balance** - текущий кредитный баланс\n",
    "* **Monthly Debt** - ежемесячный долг\n",
    "* **Credit Default** - факт невыполнения кредитных обязательств (0 - погашен вовремя, 1 - просрочка)"
   ]
  },
  {
   "cell_type": "code",
   "execution_count": 6,
   "metadata": {},
   "outputs": [],
   "source": [
    "TARGET_NAME = 'Credit Default'"
   ]
  },
  {
   "cell_type": "markdown",
   "metadata": {},
   "source": [
    "### Обработка выбросов пропусков"
   ]
  },
  {
   "cell_type": "code",
   "execution_count": 7,
   "metadata": {},
   "outputs": [],
   "source": [
    "def transform(df):\n",
    "    \"\"\"Трансформация данных\"\"\"\n",
    "\n",
    "    # Исправляем выбросы по Credit Score - очевидно что там лишний ноль дописали \n",
    "    df.loc[(df['Credit Score']>850),'Credit Score'] = df['Credit Score']/10\n",
    "\n",
    "    # Вместо Nan в \"Months since last delinquent\" ставим 0, так как логично допустить что когда нет просрочемк то и не вводили\n",
    "\n",
    "    df.loc[(df['Months since last delinquent'].isnull()),'Months since last delinquent'] = 0\n",
    "\n",
    "    # Аналогично по банкротствам\n",
    "#     df.loc[(df['Bankruptcies'].isnull()),'Bankruptcies'] = 0\n",
    "\n",
    "    # Правим Credit Score и Annual Income у них Nan одновременно, что логично если не завели средний годовой доход то Credit Score не считается\n",
    "    # Если количество месяцев просрочки меньше 1 и Years in current job не Null:\n",
    "\n",
    "    df.loc[(df['Credit Score'].isnull()) & (df['Years in current job'].notnull()) &\\\n",
    "           (df['Months since last delinquent'] < 1),'Annual Income'] = df['Monthly Debt']*18\n",
    "\n",
    "    df.loc[(df['Credit Score'].isnull()) & (df['Years in current job'].notnull()) &\\\n",
    "           (df['Months since last delinquent'] < 1),'Credit Score'] = 729.0\n",
    "    # Если количество месяцев просрочки больше 0 :\n",
    "    df.loc[(df['Credit Score'].isnull()),['Annual Income','Credit Score']] = [0,585.0]\n",
    "\n",
    "    # Правим Years in current job как меньшее из значений\n",
    "    df.loc[(df['Years in current job'].isnull()),'Years in current job'] = '< 1 year'\n",
    "\n",
    "    # Есть выбросы в Current Loan Amount ( = 99999999.0),но данная величина очень хорошо коррелирует с Credit Default = 0, \n",
    "    # так что оставим как есть\n",
    "    # но оценив этот признак в разрезе целевой переменной получается что лучше переопределить этот показатель на 100 000\n",
    "    # так с точки зрения распределения при увеличении Current Loan Amount идет увеличение Credit Default = 1\n",
    "    df.loc[df['Current Loan Amount']> 1000000,'Current Loan Amount'] = 100000\n",
    "\n",
    "    # КАТЕГОРИАЛЬНЫЕ ПРИЗНАКИ\n",
    "    # Объединим некоторые параметры в поле 'Years in current job'\n",
    "    df.loc[df['Years in current job'].isin(['1 year','4 years','3 years']),'Years in current job'] = '2 years'\n",
    "    df.loc[df['Years in current job'].isin(['6 years','7 years','8 years','9 years']),'Years in current job'] = '5 years'\n",
    "\n",
    "    # Аналогично для Purpose\n",
    "    df.loc[df['Purpose'].isin(['take a trip','buy a car','small business','business loan','wedding','educational expenses',\\\n",
    "                               'buy house','medical bills','moving','major purchase','vacation', 'renewable energy']),'Purpose'] = 'other'\n",
    "\n",
    "    # Объединим Home Mortgage' и 'Have Mortgage' в колонке 'Home Ownership'\n",
    "    df.loc[df['Home Ownership'] == 'Have Mortgage','Home Ownership'] = 'Home Mortgage'\n",
    "    return df"
   ]
  },
  {
   "cell_type": "code",
   "execution_count": 8,
   "metadata": {},
   "outputs": [],
   "source": [
    "df = transform(df)\n"
   ]
  },
  {
   "cell_type": "markdown",
   "metadata": {},
   "source": [
    "-------------"
   ]
  },
  {
   "cell_type": "markdown",
   "metadata": {},
   "source": [
    "# Обучение модели на Credit Default"
   ]
  },
  {
   "cell_type": "code",
   "execution_count": 9,
   "metadata": {},
   "outputs": [],
   "source": [
    "SEL_FEATURES = ['Home Ownership',\n",
    " 'Annual Income',\n",
    " 'Years in current job',\n",
    " 'Number of Open Accounts',\n",
    " 'Years of Credit History',\n",
    " 'Maximum Open Credit',\n",
    " 'Months since last delinquent',\n",
    " 'Purpose',\n",
    " 'Term',\n",
    " 'Current Loan Amount',\n",
    " 'Current Credit Balance',\n",
    " 'Monthly Debt',\n",
    " 'Credit Score'\n",
    "               ]"
   ]
  },
  {
   "cell_type": "code",
   "execution_count": 10,
   "metadata": {},
   "outputs": [],
   "source": [
    "# df.describe()"
   ]
  },
  {
   "cell_type": "code",
   "execution_count": 11,
   "metadata": {},
   "outputs": [],
   "source": [
    "Xc = df[SEL_FEATURES]\n",
    "yc = df[TARGET_NAME]\n",
    "CAT_FEATURES = Xc.select_dtypes(include='object').columns.tolist()\n",
    "# Xtest = df1[SEL_FEATURES]"
   ]
  },
  {
   "cell_type": "code",
   "execution_count": 12,
   "metadata": {},
   "outputs": [],
   "source": [
    "model_catb_c = catb.CatBoostClassifier(class_weights=[1, 3.0], silent=True, n_estimators=1500,  \n",
    "                                  max_depth=3, random_state=42)\n",
    "model_catb_c.fit(Xc, yc, CAT_FEATURES)\n",
    "\n",
    "y_train_pred = model_catb_c.predict(Xc)\n",
    "\n",
    "y_train_pred_proba = model_catb_c.predict_proba(Xc)\n",
    "# threshold_prob = 0.53\n",
    "# predict_train = np.array([1 if x>=threshold_prob else 0 for x in y_train_pred_proba[:,1]])\n",
    "\n",
    "# get_classification_report(yc, y_train_pred, yc, predict_train)"
   ]
  },
  {
   "cell_type": "code",
   "execution_count": 13,
   "metadata": {},
   "outputs": [],
   "source": [
    "with open('model.pkl', 'wb') as file:\n",
    "    pickle.dump(model_catb_c, file)"
   ]
  },
  {
   "cell_type": "code",
   "execution_count": 14,
   "metadata": {},
   "outputs": [],
   "source": [
    "loaded_model = pickle.load(open('model.pkl', 'rb'))"
   ]
  },
  {
   "cell_type": "code",
   "execution_count": 15,
   "metadata": {},
   "outputs": [],
   "source": [
    "jn = {'ID':23,\"Home Ownership\":\"Rent\",\"Annual Income\":0.0,\"Years in current job\":\"2 years\",\"Tax Liens\":0.0,\n",
    "      \"Number of Open Accounts\":9.0,\"Years of Credit History\":12.5,\"Maximum Open Credit\":220968.0,\n",
    "      \"Number of Credit Problems\":0.0,\"Months since last delinquent\":70.0,\"Purpose\":\"debt consolidation\",\"Term\":\"Short Term\",\n",
    "      \"Current Loan Amount\":162470.0,\"Current Credit Balance\":105906.0,\"Monthly Debt\":6813.0,\"Credit Score\":585.0}"
   ]
  },
  {
   "cell_type": "code",
   "execution_count": 16,
   "metadata": {},
   "outputs": [],
   "source": [
    "jn1 = {'ID':2,\"Home Ownership\":\"Home Mortgage\",\"Years in current job\":\"10+ years\",\"Tax Liens\":0.0,\n",
    "       \"Number of Open Accounts\":16.0,\"Years of Credit History\":17.0,\"Maximum Open Credit\":456302.0,\n",
    "       \"Number of Credit Problems\":0.0,\"Months since last delinquent\":70.0,\"Purpose\":\"debt consolidation\",\n",
    "       \"Term\":\"Short Term\",\"Current Loan Amount\":217382.0,\"Current Credit Balance\":213199.0,\"Monthly Debt\":27559.0}"
   ]
  },
  {
   "cell_type": "code",
   "execution_count": 17,
   "metadata": {},
   "outputs": [],
   "source": [
    "jn2 = {'ID':3,\"Home Ownership\":\"Home Mortgage\",\"Annual Income\":1152540.0,\"Years in current job\":\"2 years\",\"Tax Liens\":0.0,\n",
    "       \"Number of Open Accounts\":10.0,\"Years of Credit History\":13.7,\"Maximum Open Credit\":204600.0,\n",
    "       \"Number of Credit Problems\":0.0,\"Months since last delinquent\":0.0,\"Purpose\":\"debt consolidation\",\"Term\":\"Short Term\",\n",
    "       \"Current Loan Amount\":200178.0,\"Current Credit Balance\":146490.0,\"Monthly Debt\":18729.0,\"Credit Score\":7260.0}"
   ]
  },
  {
   "cell_type": "code",
   "execution_count": 18,
   "metadata": {},
   "outputs": [
    {
     "data": {
      "text/html": [
       "<div>\n",
       "<style scoped>\n",
       "    .dataframe tbody tr th:only-of-type {\n",
       "        vertical-align: middle;\n",
       "    }\n",
       "\n",
       "    .dataframe tbody tr th {\n",
       "        vertical-align: top;\n",
       "    }\n",
       "\n",
       "    .dataframe thead th {\n",
       "        text-align: right;\n",
       "    }\n",
       "</style>\n",
       "<table border=\"1\" class=\"dataframe\">\n",
       "  <thead>\n",
       "    <tr style=\"text-align: right;\">\n",
       "      <th></th>\n",
       "      <th>Home Ownership</th>\n",
       "      <th>Annual Income</th>\n",
       "      <th>Years in current job</th>\n",
       "      <th>Number of Open Accounts</th>\n",
       "      <th>Years of Credit History</th>\n",
       "      <th>Maximum Open Credit</th>\n",
       "      <th>Months since last delinquent</th>\n",
       "      <th>Purpose</th>\n",
       "      <th>Term</th>\n",
       "      <th>Current Loan Amount</th>\n",
       "      <th>Current Credit Balance</th>\n",
       "      <th>Monthly Debt</th>\n",
       "      <th>Credit Score</th>\n",
       "    </tr>\n",
       "  </thead>\n",
       "  <tbody>\n",
       "    <tr>\n",
       "      <th>23</th>\n",
       "      <td>Rent</td>\n",
       "      <td>0.0</td>\n",
       "      <td>2 years</td>\n",
       "      <td>9.0</td>\n",
       "      <td>12.5</td>\n",
       "      <td>220968.0</td>\n",
       "      <td>70.0</td>\n",
       "      <td>debt consolidation</td>\n",
       "      <td>Short Term</td>\n",
       "      <td>162470.0</td>\n",
       "      <td>105906.0</td>\n",
       "      <td>6813.0</td>\n",
       "      <td>585.0</td>\n",
       "    </tr>\n",
       "  </tbody>\n",
       "</table>\n",
       "</div>"
      ],
      "text/plain": [
       "   Home Ownership  Annual Income Years in current job  \\\n",
       "23           Rent            0.0              2 years   \n",
       "\n",
       "    Number of Open Accounts  Years of Credit History  Maximum Open Credit  \\\n",
       "23                      9.0                     12.5             220968.0   \n",
       "\n",
       "    Months since last delinquent             Purpose        Term  \\\n",
       "23                          70.0  debt consolidation  Short Term   \n",
       "\n",
       "    Current Loan Amount  Current Credit Balance  Monthly Debt  Credit Score  \n",
       "23             162470.0                105906.0        6813.0         585.0  "
      ]
     },
     "execution_count": 18,
     "metadata": {},
     "output_type": "execute_result"
    }
   ],
   "source": [
    "ddf = pd.DataFrame(columns = SEL_FEATURES)\n",
    "ddf.loc[jn['ID']] = jn\n",
    "# ddf.loc[jn1['ID']] = jn1\n",
    "# ddf.loc[jn2['ID']] = jn2\n",
    "ddf"
   ]
  },
  {
   "cell_type": "code",
   "execution_count": 19,
   "metadata": {},
   "outputs": [
    {
     "data": {
      "text/html": [
       "<div>\n",
       "<style scoped>\n",
       "    .dataframe tbody tr th:only-of-type {\n",
       "        vertical-align: middle;\n",
       "    }\n",
       "\n",
       "    .dataframe tbody tr th {\n",
       "        vertical-align: top;\n",
       "    }\n",
       "\n",
       "    .dataframe thead th {\n",
       "        text-align: right;\n",
       "    }\n",
       "</style>\n",
       "<table border=\"1\" class=\"dataframe\">\n",
       "  <thead>\n",
       "    <tr style=\"text-align: right;\">\n",
       "      <th></th>\n",
       "      <th>Home Ownership</th>\n",
       "      <th>Annual Income</th>\n",
       "      <th>Years in current job</th>\n",
       "      <th>Number of Open Accounts</th>\n",
       "      <th>Years of Credit History</th>\n",
       "      <th>Maximum Open Credit</th>\n",
       "      <th>Months since last delinquent</th>\n",
       "      <th>Purpose</th>\n",
       "      <th>Term</th>\n",
       "      <th>Current Loan Amount</th>\n",
       "      <th>Current Credit Balance</th>\n",
       "      <th>Monthly Debt</th>\n",
       "      <th>Credit Score</th>\n",
       "    </tr>\n",
       "  </thead>\n",
       "  <tbody>\n",
       "    <tr>\n",
       "      <th>23</th>\n",
       "      <td>Rent</td>\n",
       "      <td>0.0</td>\n",
       "      <td>2 years</td>\n",
       "      <td>9.0</td>\n",
       "      <td>12.5</td>\n",
       "      <td>220968.0</td>\n",
       "      <td>70.0</td>\n",
       "      <td>debt consolidation</td>\n",
       "      <td>Short Term</td>\n",
       "      <td>162470.0</td>\n",
       "      <td>105906.0</td>\n",
       "      <td>6813.0</td>\n",
       "      <td>585.0</td>\n",
       "    </tr>\n",
       "  </tbody>\n",
       "</table>\n",
       "</div>"
      ],
      "text/plain": [
       "   Home Ownership  Annual Income Years in current job  \\\n",
       "23           Rent            0.0              2 years   \n",
       "\n",
       "    Number of Open Accounts  Years of Credit History  Maximum Open Credit  \\\n",
       "23                      9.0                     12.5             220968.0   \n",
       "\n",
       "    Months since last delinquent             Purpose        Term  \\\n",
       "23                          70.0  debt consolidation  Short Term   \n",
       "\n",
       "    Current Loan Amount  Current Credit Balance  Monthly Debt  Credit Score  \n",
       "23             162470.0                105906.0        6813.0         585.0  "
      ]
     },
     "execution_count": 19,
     "metadata": {},
     "output_type": "execute_result"
    }
   ],
   "source": [
    "ddf = transform(ddf)\n",
    "ddf"
   ]
  },
  {
   "cell_type": "code",
   "execution_count": 20,
   "metadata": {},
   "outputs": [
    {
     "data": {
      "text/plain": [
       "(array([1], dtype=int64), array([[0.31882937, 0.68117063]]))"
      ]
     },
     "execution_count": 20,
     "metadata": {},
     "output_type": "execute_result"
    }
   ],
   "source": [
    "y_pred = loaded_model.predict(ddf)\n",
    "y_pred_proba = loaded_model.predict_proba(ddf)\n",
    "y_pred, y_pred_proba"
   ]
  },
  {
   "cell_type": "markdown",
   "metadata": {},
   "source": [
    "-----"
   ]
  },
  {
   "cell_type": "markdown",
   "metadata": {},
   "source": [
    "# Запуск Flask"
   ]
  },
  {
   "cell_type": "code",
   "execution_count": 21,
   "metadata": {},
   "outputs": [],
   "source": [
    "# app = Flask(__name__)\n",
    "# run_with_ngrok(app)  # Start ngrok when app is run\n",
    "\n",
    "# @app.route(\"/a\")\n",
    "# def hello():\n",
    "#     print('Testttttttt')\n",
    "#     return \"Hello World!\"\n",
    "\n",
    "# if __name__ == '__main__':\n",
    "#     app.run()"
   ]
  },
  {
   "cell_type": "code",
   "execution_count": 26,
   "metadata": {},
   "outputs": [
    {
     "name": "stdout",
     "output_type": "stream",
     "text": [
      " * Serving Flask app \"__main__\" (lazy loading)\n",
      " * Environment: production\n",
      "   WARNING: This is a development server. Do not use it in a production deployment.\n",
      "   Use a production WSGI server instead.\n",
      " * Debug mode: off\n"
     ]
    },
    {
     "name": "stderr",
     "output_type": "stream",
     "text": [
      " * Running on http://127.0.0.1:5000/ (Press CTRL+C to quit)\n"
     ]
    },
    {
     "name": "stdout",
     "output_type": "stream",
     "text": [
      " * Running on http://4479cb7e4f72.ngrok.io\n",
      " * Traffic stats available on http://127.0.0.1:4040\n"
     ]
    },
    {
     "name": "stderr",
     "output_type": "stream",
     "text": [
      "127.0.0.1 - - [29/Nov/2020 22:01:39] \"POST /predict HTTP/1.1\" 200 -\n"
     ]
    },
    {
     "name": "stdout",
     "output_type": "stream",
     "text": [
      "{'ID': 23, 'Home Ownership': 'Rent', 'Annual Income': 0.0, 'Years in current job': '2 years', 'Tax Liens': 0.0, 'Number of Open Accounts': 9.0, 'Years of Credit History': 12.5, 'Maximum Open Credit': 220968.0, 'Number of Credit Problems': 0.0, 'Months since last delinquent': 70.0, 'Bankruptcies': 0.0, 'Purpose': 'debt consolidation', 'Term': 'Short Term', 'Current Loan Amount': 162470.0, 'Current Credit Balance': 105906.0, 'Monthly Debt': 6813.0, 'Credit Score': 585.0}\n",
      "[1] [[0.31882937 0.68117063]]\n"
     ]
    },
    {
     "name": "stderr",
     "output_type": "stream",
     "text": [
      "127.0.0.1 - - [29/Nov/2020 22:01:41] \"POST /predict HTTP/1.1\" 200 -\n"
     ]
    },
    {
     "name": "stdout",
     "output_type": "stream",
     "text": [
      "{'ID': 2, 'Home Ownership': 'Home Mortgage', 'Years in current job': '10+ years', 'Tax Liens': 0.0, 'Number of Open Accounts': 16.0, 'Years of Credit History': 17.0, 'Maximum Open Credit': 456302.0, 'Number of Credit Problems': 0.0, 'Months since last delinquent': 70.0, 'Purpose': 'debt consolidation', 'Term': 'Short Term', 'Current Loan Amount': 217382.0, 'Current Credit Balance': 213199.0, 'Monthly Debt': 27559.0}\n",
      "[1] [[0.44816659 0.55183341]]\n"
     ]
    },
    {
     "name": "stderr",
     "output_type": "stream",
     "text": [
      "127.0.0.1 - - [29/Nov/2020 22:01:42] \"POST /predict HTTP/1.1\" 200 -\n"
     ]
    },
    {
     "name": "stdout",
     "output_type": "stream",
     "text": [
      "{'ID': 3, 'Home Ownership': 'Home Mortgage', 'Annual Income': 1152540.0, 'Years in current job': '2 years', 'Tax Liens': 0.0, 'Number of Open Accounts': 10.0, 'Years of Credit History': 13.7, 'Maximum Open Credit': 204600.0, 'Number of Credit Problems': 0.0, 'Months since last delinquent': 0.0, 'Bankruptcies': 0.0, 'Purpose': 'debt consolidation', 'Term': 'Short Term', 'Current Loan Amount': 200178.0, 'Current Credit Balance': 146490.0, 'Monthly Debt': 18729.0, 'Credit Score': 7260.0}\n",
      "[0] [[0.50262446 0.49737554]]\n"
     ]
    }
   ],
   "source": [
    "# Обработчики и запуск Flask\n",
    "app = Flask(__name__)\n",
    "run_with_ngrok(app)  # Start ngrok when app is run\n",
    "\n",
    "def transform(df):\n",
    "    \"\"\"Трансформация данных\"\"\"\n",
    "    # Исправляем выбросы по Credit Score - очевидно что там лишний ноль дописали \n",
    "    df.loc[(df['Credit Score']>850),'Credit Score'] = df['Credit Score']/10\n",
    "\n",
    "    # Вместо Nan в \"Months since last delinquent\" ставим 0, так как логично допустить что когда нет просрочемк то и не вводили\n",
    "\n",
    "    df.loc[(df['Months since last delinquent'].isnull()),'Months since last delinquent'] = 0\n",
    "    # Правим Credit Score и Annual Income у них Nan одновременно, что логично если не завели средний годовой доход то Credit Score не считается\n",
    "    # Если количество месяцев просрочки меньше 1 и Years in current job не Null:\n",
    "    df.loc[(df['Credit Score'].isnull()) & (df['Years in current job'].notnull()) &\\\n",
    "           (df['Months since last delinquent'] < 1),'Annual Income'] = df['Monthly Debt']*18\n",
    "\n",
    "    df.loc[(df['Credit Score'].isnull()) & (df['Years in current job'].notnull()) &\\\n",
    "           (df['Months since last delinquent'] < 1),'Credit Score'] = 729.0\n",
    "    # Если количество месяцев просрочки больше 0 :\n",
    "    df.loc[(df['Credit Score'].isnull()),['Annual Income','Credit Score']] = [0,585.0]\n",
    "\n",
    "    # Правим Years in current job как меньшее из значений\n",
    "    df.loc[(df['Years in current job'].isnull()),'Years in current job'] = '< 1 year'\n",
    "    # Есть выбросы в Current Loan Amount ( = 99999999.0),но данная величина очень хорошо коррелирует с Credit Default = 0, \n",
    "    # так что оставим как есть\n",
    "    # но оценив этот признак в разрезе целевой переменной получается что лучше переопределить этот показатель на 100 000\n",
    "    # так с точки зрения распределения при увеличении Current Loan Amount идет увеличение Credit Default = 1\n",
    "    df.loc[df['Current Loan Amount']> 1000000,'Current Loan Amount'] = 100000\n",
    "    # Объединим некоторые параметры в поле 'Years in current job'\n",
    "    df.loc[df['Years in current job'].isin(['1 year','4 years','3 years']),'Years in current job'] = '2 years'\n",
    "    df.loc[df['Years in current job'].isin(['6 years','7 years','8 years','9 years']),'Years in current job'] = '5 years'\n",
    "    # Аналогично для Purpose\n",
    "    df.loc[df['Purpose'].isin(['take a trip','buy a car','small business','business loan','wedding','educational expenses',\\\n",
    "                               'buy house','medical bills','moving','major purchase','vacation', 'renewable energy']),'Purpose'] = 'other'\n",
    "    df.loc[df['Home Ownership'] == 'Have Mortgage','Home Ownership'] = 'Home Mortgage'\n",
    "    return df\n",
    "\n",
    "SEL_FEATURES = ['Home Ownership',\n",
    " 'Annual Income',\n",
    " 'Years in current job',\n",
    " 'Number of Open Accounts',\n",
    " 'Years of Credit History',\n",
    " 'Maximum Open Credit',\n",
    " 'Months since last delinquent',\n",
    " 'Purpose',\n",
    " 'Term',\n",
    " 'Current Loan Amount',\n",
    " 'Current Credit Balance',\n",
    " 'Monthly Debt',\n",
    " 'Credit Score'\n",
    "               ]\n",
    "\n",
    "@app.route('/predict', methods=['GET', 'POST'])\n",
    "def predict3():\n",
    "    try:\n",
    "\n",
    "        json_input = request.json\n",
    "        print(json_input)\n",
    "        ID = json_input[\"ID\"]\n",
    "        ddf = pd.DataFrame(columns = SEL_FEATURES)\n",
    "        \n",
    "        ddf.loc[ID] = json_input\n",
    "#         print(ddf)\n",
    "        ddf = transform(ddf)\n",
    "        \n",
    "        y_pred = loaded_model.predict(ddf)\n",
    "#         print(y_pred)\n",
    "        y_pred_proba = loaded_model.predict_proba(ddf)\n",
    "        print(y_pred, y_pred_proba)\n",
    "\n",
    "#         return json.dumps({'ID': ID, 'Credit Default': int(y_pred[0]) , 'Credit Default_probability_1': float(y_pred_proba[0,1])}) \n",
    "        return jsonify({'ID': ID, 'Credit Default': int(y_pred[0]) , 'Credit Default_probability_1': float(y_pred_proba[0,1])}) \n",
    "    except:\n",
    "\n",
    "        return \"Error\"\n",
    "\n",
    "\n",
    "\n",
    "if __name__ == '__main__':\n",
    "    app.run()"
   ]
  },
  {
   "cell_type": "code",
   "execution_count": null,
   "metadata": {},
   "outputs": [],
   "source": []
  }
 ],
 "metadata": {
  "kernelspec": {
   "display_name": "Python 3",
   "language": "python",
   "name": "python3"
  },
  "language_info": {
   "codemirror_mode": {
    "name": "ipython",
    "version": 3
   },
   "file_extension": ".py",
   "mimetype": "text/x-python",
   "name": "python",
   "nbconvert_exporter": "python",
   "pygments_lexer": "ipython3",
   "version": "3.7.3"
  }
 },
 "nbformat": 4,
 "nbformat_minor": 2
}
